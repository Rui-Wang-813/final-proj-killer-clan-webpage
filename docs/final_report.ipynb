{
 "cells": [
  {
   "cell_type": "markdown",
   "metadata": {},
   "source": [
    "<h1 align=\"middle\">CS 184: Computer Graphics and Imaging, Spring 2022</h1>\n",
    "<h1 align=\"middle\">Final Project Report: Font Rendering</h1>\n",
    "<h2 align=\"middle\">Rui Wang, Zhuowen Chen, Yifan Zhong, Yicheng Sun</h2>"
   ]
  },
  {
   "cell_type": "markdown",
   "metadata": {},
   "source": [
    "Abstract\n",
    "A paragraph summary of the entire project.\n",
    "Technical approach\n",
    "A 1-2 page summary of your technical approach, techniques used, algorithms implemented, etc. (use references to papers or other resources for further detail). Highlight how your approach varied from the references used (did you implement a subset, or did you change or enhance anything), the unique decisions you made and why.\n",
    "A description of problems encountered and how you tackled them.\n",
    "A description of lessons learned.\n",
    "Results\n",
    "Your final images, animations, video of your system (whichever is relevant). You can include results that you think show off what you built but that you did not have time to go over on presentation day.\n",
    "References\n",
    "Contributions from each team member\n",
    "A clear description of the work contributed by each team member."
   ]
  },
  {
   "cell_type": "markdown",
   "metadata": {},
   "source": [
    "## **Abstract** <br>\n",
    "In the final project, we implemented font rendering. <br><br>\n",
    "At first, what we do is to use package free type 2 to read information about a font style from a **.ttf** file. Then we read contours, points (control and non-control) from the FACE object for each glyph in the font. Then, we store the contours (constituted by the points) as &lt; path &gt; elements in an **svg** file. This was finished for milestone. <br><br>\n",
    "Then, we need to parse the **svg** file and render this svg into png. In order to accomplish this work, we mainly used staff code from project 1. But we added an **SVGElement** object called **Path**. We modified the codes in **svgparser** and **svg** (both head and .cpp) to accomodate this change. The **Path::draw** function will call functions that we added in **RasterizerImp** to rasterize the lines and curves in the **Path**. "
   ]
  },
  {
   "cell_type": "markdown",
   "metadata": {},
   "source": [
    "## **Technical Approach**\n",
    "TThe first part of this project is to convert a TTF font format into an SVG file, as SVG files support Bezier curves.\n",
    "Therefore, the first challenge we met is to understand what TTF files are composed of, and how do we generate a specific given character into a glyph that TTF font presents.\n",
    "And here, we found a free, well-documented software called FreeType (add link here). FreeType not only has documented how to use its tool, but also provided tutorials that are detailed and vivid enough for us to understand what a font is, and what elements does a font has. Here, we learned that foundamentally a font is composed of glyphs, which can be understood as forms of characters. Each glyph has its own metrics, such as bearingX, bearingY, xMin, xMax and so on, as the diagram shown below. More information about glyph metrics can be learned at https://freetype.org/freetype2/docs/tutorial/step2.html.\n",
    "\n",
    "<div align=\"middle\">\n",
    "    <img src=\"img/metrics.png\" align=\"middle\">\n",
    "</div>\n",
    "\n",
    "To support mulitple characters, one essential metric we need to use is the advance. Every time we finish drawing a character, we will offset the next character by the advance value that the last character has. By doing so, every character in a line can be drawing without overlapping with each other.\n",
    "A glyph may be made up of zero (for exmaple, a space) or multiple contours, where each contour is made up of many points. Some points makes a quadratic Bezier curve, and some "
   ]
  },
  {
   "cell_type": "markdown",
   "metadata": {},
   "source": [
    "## **Result** <br>\n",
    "\n",
    "First, let us show a picture of \"**abc**\" rendered with only contours and points on each contour. (colorful contours and points): <br>\n",
    "\n",
    "<div align=\"middle\">\n",
    "    <img src=\"img/Bezier_Points.png\" align=\"middle\">\n",
    "</div>"
   ]
  },
  {
   "cell_type": "markdown",
   "metadata": {},
   "source": [
    "<button onclick=\"document.getElementById('imageid').src='img/Bezier_Points.png'\">a</button>\n",
    "<button onclick=\"document.getElementById('imageid').src='img/Bezier_Points.png'\">b</button>\n",
    "<button onclick=\"document.getElementById('imageid').src='img/Bezier_Points.png'\">c</button>\n",
    "<button onclick=\"document.getElementById('imageid').src='img/Bezier_Points.png'\">d</button>\n",
    "<button onclick=\"document.getElementById('imageid').src='img/Bezier_Points.png'\">e</button>\n",
    "<button onclick=\"document.getElementById('imageid').src='img/Bezier_Points.png'\">f</button>\n",
    "<button onclick=\"document.getElementById('imageid').src='img/Bezier_Points.png'\">g</button>\n",
    "<button onclick=\"document.getElementById('imageid').src='img/Bezier_Points.png'\">h</button>\n",
    "<button onclick=\"document.getElementById('imageid').src='img/Bezier_Points.png'\">i</button>\n",
    "<button onclick=\"document.getElementById('imageid').src='img/Bezier_Points.png'\">j</button>\n",
    "<button onclick=\"document.getElementById('imageid').src='img/Bezier_Points.png'\">l</button>\n",
    "<button onclick=\"document.getElementById('imageid').src='img/Bezier_Points.png'\">m</button>\n",
    "<button onclick=\"document.getElementById('imageid').src='img/Bezier_Points.png'\">n</button>\n",
    "<button onclick=\"document.getElementById('imageid').src='img/Bezier_Points.png'\">o</button>\n",
    "<button onclick=\"document.getElementById('imageid').src='img/Bezier_Points.png'\">p</button>\n",
    "<button onclick=\"document.getElementById('imageid').src='img/Bezier_Points.png'\">q</button>\n",
    "<button onclick=\"document.getElementById('imageid').src='img/Bezier_Points.png'\">r</button>\n",
    "<button onclick=\"document.getElementById('imageid').src='img/Bezier_Points.png'\">s</button>\n",
    "<button onclick=\"document.getElementById('imageid').src='img/Bezier_Points.png'\">t</button>\n",
    "<button onclick=\"document.getElementById('imageid').src='img/Bezier_Points.png'\">u</button>\n",
    "<button onclick=\"document.getElementById('imageid').src='img/Bezier_Points.png'\">v</button>\n",
    "<button onclick=\"document.getElementById('imageid').src='img/Bezier_Points.png'\">w</button>\n",
    "<button onclick=\"document.getElementById('imageid').src='img/Bezier_Points.png'\">x</button>\n",
    "<button onclick=\"document.getElementById('imageid').src='img/Bezier_Points.png'\">y</button>\n",
    "<button onclick=\"document.getElementById('imageid').src='img/Bezier_Points.png'\">z</button>\n",
    "\n",
    "<img id=\"imageid\" src='img/metrics.png'>"
   ]
  },
  {
   "cell_type": "markdown",
   "metadata": {},
   "source": [
    "## **References**"
   ]
  },
  {
   "cell_type": "markdown",
   "metadata": {},
   "source": [
    "<button onclick=\"showOrHide()\" type=\"button\">"
   ]
  },
  {
   "cell_type": "markdown",
   "metadata": {},
   "source": [
    "## **Contributions**"
   ]
  }
 ],
 "metadata": {
  "language_info": {
   "name": "python"
  },
  "orig_nbformat": 4
 },
 "nbformat": 4,
 "nbformat_minor": 2
}
